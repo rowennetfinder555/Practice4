{
 "cells": [
  {
   "cell_type": "markdown",
   "metadata": {},
   "source": [
    "# Anomaly Detection Using Gaussian Distribution\n",
    "\n",
    "> ☝Before moving on with this demo you might want to take a look at:\n",
    "> - 📗[Math behind the Anomaly Detection](https://github.com/trekhleb/homemade-machine-learning/tree/master/homemade/anomaly_detection)\n",
    "> - ⚙️[Gaussian Anomaly Detection Source Code](https://github.com/trekhleb/homemade-machine-learning/blob/master/homemade/anomaly_detection/gaussian_anomaly_detection.py)\n",
    "\n",
    "**Anomaly detection** (also **outlier detection**) is the identification of rare items, events or observations which raise suspicions by differing significantly from the majority of the data.\n",
    "\n",
    "The **normal** (or **Gaussian**) distribution is a very common continuous probability distribution. Normal distributions are important in statistics and are often used in the natural and social sciences to represent real-valued random variables whose distributions are not known. A random variable with a Gaussian distribution is said to be normally distributed and is called a normal deviate.\n",
    "\n",
    "> **Demo Project:** In this demo we will build a model that will find anomalies in server operational parameters such as `Latency` and `Throughput`."
   ]
  },
  {
   "cell_type": "code",
   "execution_count": 1,
   "metadata": {},
   "outputs": [],
   "source": [
    "# To make debugging of logistic_regression module easier we enable imported modules autoreloading feature.\n",
    "# By doing this you may change the code of logistic_regression library and all these changes will be available here.\n",
    "%load_ext autoreload\n",
    "%autoreload 2\n",
    "\n",
    "# Add project root folder to module loading paths.\n",
    "import sys\n",
    "sys.path.append('../..')"
   ]
  },
  {
   "cell_type": "markdown",
   "metadata": {},
   "source": [
    "### Import Dependencies\n",
    "\n",
    "- [pandas](https://pandas.pydata.org/) - library that we will use for loading and displaying the data in a table\n",
    "- [numpy](http://www.numpy.org/) - library that we will use for linear algebra operations\n",
    "- [matplotlib](https://matplotlib.org/) - library that we will use for plotting the data\n",
    "- [anomaly_detection](https://github.com/trekhleb/homemade-machine-learning/blob/master/homemade/anomaly_detection/gaussian_anomaly_detection.py) - custom implementation of anomaly detection using Gaussian distribution."
   ]
  },
  {
   "cell_type": "code",
   "execution_count": 2,
   "metadata": {},
   "outputs": [],
   "source": [
    "# Import 3rd party dependencies.\n",
    "import numpy as np\n",
    "import pandas as pd\n",
    "import matplotlib.pyplot as plt\n",
    "\n",
    "# Import custom Gaussian anomaly detection implementation.\n",
    "from homemade.anomaly_detection import GaussianAnomalyDetection"
   ]
  },
  {
   "cell_type": "markdown",
   "metadata": {},
   "source": [
    "### Load the Data\n",
    "\n",
    "In this demo we will use the dataset with server operational parameters such as `Latency` and `Throughput` and will try to find anomalies in them."
   ]
  },
  {
   "cell_type": "code",
   "execution_count": 3,
   "metadata": {},
   "outputs": [
    {
     "data": {
      "text/html": [
       "<div>\n",
       "<style scoped>\n",
       "    .dataframe tbody tr th:only-of-type {\n",
       "        vertical-align: middle;\n",
       "    }\n",
       "\n",
       "    .dataframe tbody tr th {\n",
       "        vertical-align: top;\n",
       "    }\n",
       "\n",
       "    .dataframe thead th {\n",
       "        text-align: right;\n",
       "    }\n",
       "</style>\n",
       "<table border=\"1\" class=\"dataframe\">\n",
       "  <thead>\n",
       "    <tr style=\"text-align: right;\">\n",
       "      <th></th>\n",
       "      <th>Latency (ms)</th>\n",
       "      <th>Throughput (mb/s)</th>\n",
       "      <th>Anomaly</th>\n",
       "    </tr>\n",
       "  </thead>\n",
       "  <tbody>\n",
       "    <tr>\n",
       "      <th>0</th>\n",
       "      <td>13.046815</td>\n",
       "      <td>14.741152</td>\n",
       "      <td>0</td>\n",
       "    </tr>\n",
       "    <tr>\n",
       "      <th>1</th>\n",
       "      <td>13.408520</td>\n",
       "      <td>13.763270</td>\n",
       "      <td>0</td>\n",
       "    </tr>\n",
       "    <tr>\n",
       "      <th>2</th>\n",
       "      <td>14.195915</td>\n",
       "      <td>15.853181</td>\n",
       "      <td>0</td>\n",
       "    </tr>\n",
       "    <tr>\n",
       "      <th>3</th>\n",
       "      <td>14.914701</td>\n",
       "      <td>16.174260</td>\n",
       "      <td>0</td>\n",
       "    </tr>\n",
       "    <tr>\n",
       "      <th>4</th>\n",
       "      <td>13.576700</td>\n",
       "      <td>14.042849</td>\n",
       "      <td>0</td>\n",
       "    </tr>\n",
       "    <tr>\n",
       "      <th>5</th>\n",
       "      <td>13.922403</td>\n",
       "      <td>13.406469</td>\n",
       "      <td>0</td>\n",
       "    </tr>\n",
       "    <tr>\n",
       "      <th>6</th>\n",
       "      <td>12.822132</td>\n",
       "      <td>14.223188</td>\n",
       "      <td>0</td>\n",
       "    </tr>\n",
       "    <tr>\n",
       "      <th>7</th>\n",
       "      <td>15.676366</td>\n",
       "      <td>15.891691</td>\n",
       "      <td>0</td>\n",
       "    </tr>\n",
       "    <tr>\n",
       "      <th>8</th>\n",
       "      <td>16.162875</td>\n",
       "      <td>16.202998</td>\n",
       "      <td>0</td>\n",
       "    </tr>\n",
       "    <tr>\n",
       "      <th>9</th>\n",
       "      <td>12.666451</td>\n",
       "      <td>14.899084</td>\n",
       "      <td>1</td>\n",
       "    </tr>\n",
       "  </tbody>\n",
       "</table>\n",
       "</div>"
      ],
      "text/plain": [
       "   Latency (ms)  Throughput (mb/s)  Anomaly\n",
       "0     13.046815          14.741152        0\n",
       "1     13.408520          13.763270        0\n",
       "2     14.195915          15.853181        0\n",
       "3     14.914701          16.174260        0\n",
       "4     13.576700          14.042849        0\n",
       "5     13.922403          13.406469        0\n",
       "6     12.822132          14.223188        0\n",
       "7     15.676366          15.891691        0\n",
       "8     16.162875          16.202998        0\n",
       "9     12.666451          14.899084        1"
      ]
     },
     "execution_count": 3,
     "metadata": {},
     "output_type": "execute_result"
    }
   ],
   "source": [
    "# Load the data.\n",
    "pd_data = pd.read_csv('../../data/server-operational-params.csv')\n",
    "\n",
    "# Print the data table.\n",
    "pd_data.head(10)"
   ]
  },
  {
   "cell_type": "code",
   "execution_count": 4,
   "metadata": {},
   "outputs": [
    {
     "data": {
      "image/png": "[encoded data removed]",
      "text/plain": [
       "<Figure size 720x288 with 2 Axes>"
      ]
     },
     "metadata": {
      "needs_background": "light"
     },
     "output_type": "display_data"
    }
   ],
   "source": [
    "# Print histograms for each feature to see how they vary.\n",
    "histohrams = pd_data[['Latency (ms)', 'Throughput (mb/s)']].hist(grid=False, figsize=(10,4))"
   ]
  },
  {
   "cell_type": "markdown",
   "metadata": {},
   "source": [
    "### Plot the Data\n",
    "\n",
    "Let's plot `Throughput(Latency)` dependency and see if the distribution is similar to Gaussian one."
   ]
  },
  {
   "cell_type": "code",
   "execution_count": 5,
   "metadata": {},
   "outputs": [
    {
     "data": {
      "image/png": "[encoded data removed]",
      "text/plain": [
       "<Figure size 432x288 with 1 Axes>"
      ]
     },
     "metadata": {
      "needs_background": "light"
     },
     "output_type": "display_data"
    }
   ],
   "source": [
    "# Extract first two column from the dataset.\n",
    "data = pd_data[['Latency (ms)', 'Throughput (mb/s)']].values\n",
    "\n",
    "# Plot the data.\n",
    "plt.scatter(data[:, 0], data[:, 1], alpha=0.6)\n",
    "plt.xlabel('Latency (ms)')\n",
    "plt.ylabel('Throughput (mb/s)')\n",
    "plt.title('Server Operational Params')\n",
    "plt.show()"
   ]
  },
  {
   "cell_type": "markdown",
   "metadata": {},
   "source": [
    "### Find Anomalies Using Gaussian Distribution\n",
    "\n",
    "Let's try to use our custom anomaly detection implementation using Gaussian distribution."
   ]
  },
  {
   "cell_type": "code",
   "execution_count": 6,
   "metadata": {},
   "outputs": [
    {
     "name": "stdout",
     "output_type": "stream",
     "text": [
      "mu\n"
     ]
    },
    {
     "ename": "AttributeError",
     "evalue": "'GaussianAnomalyDetection' object has no attribute 'mu'",
     "output_type": "error",
     "traceback": [
      "\u001b[0;31m---------------------------------------------------------------------------\u001b[0m",
      "\u001b[0;31mAttributeError\u001b[0m                            Traceback (most recent call last)",
      "\u001b[0;32m<ipython-input-6-1b4b183e03e2>\u001b[0m in \u001b[0;36m<module>\u001b[0;34m\u001b[0m\n\u001b[1;32m      4\u001b[0m \u001b[0;31m# Let's see Gaussian estimation parameters.\u001b[0m\u001b[0;34m\u001b[0m\u001b[0;34m\u001b[0m\u001b[0m\n\u001b[1;32m      5\u001b[0m \u001b[0mprint\u001b[0m\u001b[0;34m(\u001b[0m\u001b[0;34m'mu'\u001b[0m\u001b[0;34m)\u001b[0m\u001b[0;34m\u001b[0m\u001b[0m\n\u001b[0;32m----> 6\u001b[0;31m \u001b[0mprint\u001b[0m\u001b[0;34m(\u001b[0m\u001b[0mgaussian_anomaly\u001b[0m\u001b[0;34m.\u001b[0m\u001b[0mmu\u001b[0m\u001b[0;34m)\u001b[0m\u001b[0;34m\u001b[0m\u001b[0m\n\u001b[0m\u001b[1;32m      7\u001b[0m \u001b[0;34m\u001b[0m\u001b[0m\n\u001b[1;32m      8\u001b[0m \u001b[0mprint\u001b[0m\u001b[0;34m(\u001b[0m\u001b[0;34m'\\n'\u001b[0m\u001b[0;34m)\u001b[0m\u001b[0;34m\u001b[0m\u001b[0m\n",
      "\u001b[0;31mAttributeError\u001b[0m: 'GaussianAnomalyDetection' object has no attribute 'mu'"
     ]
    }
   ],
   "source": [
    "# Init Gaussian anomaly instance.\n",
    "gaussian_anomaly = GaussianAnomalyDetection(data)\n",
    "\n",
    "# Let's see Gaussian estimation parameters.\n",
    "print('mu')\n",
    "print(gaussian_anomaly.mu_param)\n",
    "\n",
    "print('\\n')\n",
    "\n",
    "print('sigma^2')\n",
    "print(gaussian_anomaly.sigma_squared)"
   ]
  },
  {
   "cell_type": "markdown",
   "metadata": {},
   "source": [
    "### Visualize the Fit\n",
    "\n",
    "Let's draw a contour plots that will represent our Gaussian distribution for the dataset."
   ]
  },
  {
   "cell_type": "code",
   "execution_count": null,
   "metadata": {},
   "outputs": [],
   "source": [
    "# Create a 3D grid to build a contour plots.\n",
    "\n",
    "# Create ranges along X and Y axes.\n",
    "latency_from = 0\n",
    "latency_to = 35\n",
    "\n",
    "throughput_from = 0\n",
    "throughput_to = 35\n",
    "\n",
    "step = 0.5\n",
    "\n",
    "latency_range = np.arange(latency_from, latency_to, step)\n",
    "throughput_range = np.arange(throughput_from, throughput_to, step)\n",
    "\n",
    "# Create X and Y grids.\n",
    "(latency_grid, throughput_grid) = np.meshgrid(latency_range, throughput_range)\n",
    "\n",
    "# Flatten latency and throughput grids.\n",
    "flat_latency_grid = latency_grid.flatten().reshape((latency_grid.size, 1))\n",
    "flat_throughput_grid = throughput_grid.flatten().reshape((throughput_grid.size, 1))\n",
    "\n",
    "# Joing latency and throughput flatten grids together to form all combinations of latency and throughput.\n",
    "combinations = np.hstack((flat_latency_grid, flat_throughput_grid))\n",
    "\n",
    "# Now let's calculate the probabilities for every combination of latency and throughput.\n",
    "flat_probabilities = gaussian_anomaly.multivariate_gaussian(combinations)\n",
    "\n",
    "# Resghape probabilities back to matrix in order to build contours.\n",
    "probabilities = flat_probabilities.reshape(latency_grid.shape)\n",
    "\n",
    "# Let's build plot our original dataset.\n",
    "plt.scatter(data[:, 0], data[:, 1], alpha=0.6)\n",
    "plt.xlabel('Latency (ms)')\n",
    "plt.ylabel('Throughput (mb/s)')\n",
    "plt.title('Server Operational Params')\n",
    "\n",
    "# On top of our original dataset let's plot probability contours.\n",
    "plt.contour(latency_grid, throughput_grid, probabilities, levels=10)\n",
    "\n",
    "# Display the plot.\n",
    "plt.show()"
   ]
  },
  {
   "cell_type": "markdown",
   "metadata": {},
   "source": [
    "### Select best threshold\n",
    "\n",
    "Now, in order to decide which examples should be counted as an anomaly we need to decide which probability threshold to choose. We could do it intuitively but since we have all data examples labeled in our dataset let's use that data to calculate the best threshold."
   ]
  },
  {
   "cell_type": "code",
   "execution_count": null,
   "metadata": {},
   "outputs": [],
   "source": [
    "# Extract the information about which example is anomaly and which is not.\n",
    "num_examples = data.shape[0]\n",
    "labels = pd_data['Anomaly'].values.reshape((num_examples, 1))\n",
    "\n",
    "# Returns the density of the multivariate normal at each data point (row) of X dataset.\n",
    "probabilities = gaussian_anomaly.multivariate_gaussian(data)\n",
    "\n",
    "# Let's go through many possible thresholds and pick the one with the highest F1 score.\n",
    "(epsilon, f1, precision_history, recall_history, f1_history) = gaussian_anomaly.select_threshold(\n",
    "    labels, probabilities\n",
    ")\n",
    "\n",
    "print('Best epsilon:')\n",
    "print(epsilon)\n",
    "\n",
    "print('\\n')\n",
    "\n",
    "print('Best F1 score:')\n",
    "print(f1)"
   ]
  },
  {
   "cell_type": "markdown",
   "metadata": {},
   "source": [
    "### Plot Precision/Recall Progress\n",
    "\n",
    "Let's now plot precision, reacall and F1 score changes for every iteration."
   ]
  },
  {
   "cell_type": "code",
   "execution_count": null,
   "metadata": {},
   "outputs": [],
   "source": [
    "# Make the plot a little bit bigger than default one.\n",
    "plt.figure(figsize=(15, 5))\n",
    "\n",
    "# Plot precission history.\n",
    "plt.subplot(1, 3, 1)\n",
    "plt.xlabel('Iteration')\n",
    "plt.ylabel('Value')\n",
    "plt.title('Precission Progress')\n",
    "plt.plot(precision_history)\n",
    "\n",
    "# Plot recall history.\n",
    "plt.subplot(1, 3, 2)\n",
    "plt.xlabel('Iteration')\n",
    "plt.ylabel('Value')\n",
    "plt.title('Recall Progress')\n",
    "plt.plot(recall_history)\n",
    "\n",
    "# Plot F1 history.\n",
    "plt.subplot(1, 3, 3)\n",
    "plt.xlabel('Iteration')\n",
    "plt.ylabel('Value')\n",
    "plt.title('F1 Progress')\n",
    "plt.plot(f1_history)\n",
    "\n",
    "# Display all plots.\n",
    "plt.show()"
   ]
  },
  {
   "cell_type": "markdown",
   "metadata": {},
   "source": [
    "### Fing Outliers\n",
    "\n",
    "Since now we have calculated best `epsilon` we may find outliers."
   ]
  },
  {
   "cell_type": "code",
   "execution_count": null,
   "metadata": {},
   "outputs": [],
   "source": [
    "# Find indices of data examples with probabilities less than the best epsilon.\n",
    "outliers_indices = np.where(probabilities < epsilon)[0]\n",
    "\n",
    "# Plot original data.\n",
    "plt.scatter(data[:, 0], data[:, 1], alpha=0.6, label='Dataset')\n",
    "plt.xlabel('Latency (ms)')\n",
    "plt.ylabel('Throughput (mb/s)')\n",
    "plt.title('Server Operational Params')\n",
    "\n",
    "# Plot the outliers.\n",
    "plt.scatter(data[outliers_indices, 0], data[outliers_indices, 1], alpha=0.6, c='red', label='Outliers')\n",
    "\n",
    "# Display plots.\n",
    "plt.legend()\n",
    "plt.plot()"
   ]
  }
 ],
 "metadata": {
  "kernelspec": {
   "display_name": "Python 3",
   "language": "python",
   "name": "python3"
  },
  "language_info": {
   "codemirror_mode": {
    "name": "ipython",
    "version": 3
   },
   "file_extension": ".py",
   "mimetype": "text/x-python",
   "name": "python",
   "nbconvert_exporter": "python",
   "pygments_lexer": "ipython3",
   "version": "3.7.0"
  }
 },
 "nbformat": 4,
 "nbformat_minor": 2
}
